{
 "cells": [
  {
   "cell_type": "markdown",
   "metadata": {},
   "source": [
    "# Named Entity Recognition using RNN for Nepali Text\n",
    "                                                                                - Prakash Poudel\n",
    "\n"
   ]
  },
  {
   "cell_type": "code",
   "execution_count": 1,
   "metadata": {},
   "outputs": [
    {
     "name": "stderr",
     "output_type": "stream",
     "text": [
      "Using TensorFlow backend.\n"
     ]
    }
   ],
   "source": [
    "import tensorflow as tf\n",
    "import keras\n",
    "import pandas as pd\n",
    "import numpy as np\n",
    "import os\n",
    "import matplotlib.pyplot as plt\n",
    "from sklearn.utils.multiclass import unique_labels\n",
    "from sklearn.metrics import confusion_matrix\n",
    "import preprocess as pp"
   ]
  },
  {
   "cell_type": "markdown",
   "metadata": {},
   "source": [
    "## Data\n",
    "\n",
    "Dataset is taken from collection of online newspapers. It is then tagged with proper Entity. \n",
    "Let's take a look at data."
   ]
  },
  {
   "cell_type": "code",
   "execution_count": 2,
   "metadata": {},
   "outputs": [
    {
     "name": "stdout",
     "output_type": "stream",
     "text": [
      "Random Dataset sample 1 :\n",
      "\n",
      "[['हामी', 'O'], ['छ', 'O'], ['जना', 'O'], ['दर्ुइवटा', 'O'], ['गाडीमा', 'B-PDT'], ['थियौ', 'O']]\n",
      "\n",
      "Random Dataset sample 2 :\n",
      "\n",
      "[['अझ', 'O'], ['केही', 'O'], ['अर्थशास्त्रीहरू', 'O'], ['त', 'O'], ['बहुराष्ट्रिय', 'B-ORG'], ['निगमका', 'I-ORG'], ['कार्यकारी', 'O'], ['अध्यक्षहरू', 'O'], ['पदाधिकारीहरूको', 'O'], ['सामूहिक', 'O'], ['गल्तीको', 'O'], ['उपज', 'O'], ['बताइरहेका', 'O'], ['छन्', 'O']]\n"
     ]
    }
   ],
   "source": [
    "addrsrc = os.getcwd()+\"/Dataset/Nepali Text Named Entity Dataset.xlsx\"\n",
    "\n",
    "# After Preprocessing all dataset with Tagged Entity are stored into Sentences variable.\n",
    "NSentences = pp.readfilen(addrsrc,0,1)\n",
    "\n",
    "\n",
    "#Log Name\n",
    "lgname = \"NER with LSTM with ND working\"\n",
    "\n",
    "\n",
    "senlenth = [len(sen) for sen in NSentences]\n",
    "MAX_LEN = max(senlenth)\n",
    "dl = []\n",
    "\n",
    "# Sentences is being limited to min and max word in a sentence.\n",
    "for i in range (0,len(NSentences)):\n",
    "    if len(NSentences[i]) < 5:\n",
    "                dl.append(i)\n",
    "    elif len(NSentences[i])>51:\n",
    "                dl.append(i)\n",
    "\n",
    "for index in sorted(dl, reverse=True):\n",
    "    del NSentences[index]\n",
    "        \n",
    "import random\n",
    "print(\"Random Dataset sample 1 :\\n\")\n",
    "print(random.choice(NSentences))\n",
    "print(\"\\nRandom Dataset sample 2 :\\n\")\n",
    "print(random.choice(NSentences))"
   ]
  },
  {
   "cell_type": "code",
   "execution_count": 3,
   "metadata": {},
   "outputs": [],
   "source": [
    "\n",
    "# All for Log Purpose\n",
    "allWords = []\n",
    "allTags = []\n",
    "dataset_det = \"\"\n",
    "\n",
    "\n",
    "for i in  NSentences:\n",
    "    for wod in i:\n",
    "        allWords.append(wod[0])\n",
    "        allTags.append(wod[1])\n",
    "\n",
    "\n",
    "alldTags = list(set(allTags))\n",
    "alldWords = list(set(allWords))\n",
    "\n",
    "\n",
    "n_allTags = len(allTags)\n",
    "n_allWords = len(allWords)\n",
    "\n",
    "n_Ntags = len(alldTags)\n",
    "n_Nwords = len(alldWords)\n",
    "\n",
    "# Log purpose\n",
    "dataset_det = (dataset_det + \n",
    "    \"All tag size \\t:\"+ str(n_allTags) +\n",
    "    \"\\nAll word size \\t:\"+ str(n_allWords)+\n",
    "    \"\\n\\nTotal Distinct words in the dataset \\t: \"+ str(n_Nwords) +\n",
    "    \"\\nTotal number of Labels \\t\\t\\t: \"+ str(n_Ntags) +\n",
    "    \"\\nTotal number of Sentences \\t\\t: \"+ str(len(NSentences)) +\n",
    "    \"\\n\\nTags:\\n\"+ str(alldTags))\n",
    "    \n",
    "\n"
   ]
  },
  {
   "cell_type": "code",
   "execution_count": 4,
   "metadata": {},
   "outputs": [],
   "source": [
    "# Callback Time while training \n",
    "from time import time\n",
    "\n",
    "class TimeHistory(keras.callbacks.Callback):\n",
    "    def on_train_begin(self, logs={}):\n",
    "        self.times = []\n",
    "\n",
    "    def on_epoch_begin(self, batch, logs={}):\n",
    "        self.epoch_time_start = time()\n",
    "\n",
    "    def on_epoch_end(self, batch, logs={}):\n",
    "        self.times.append(time() - self.epoch_time_start)\n",
    "        \n",
    "time_callback = TimeHistory()"
   ]
  },
  {
   "cell_type": "code",
   "execution_count": 5,
   "metadata": {},
   "outputs": [],
   "source": [
    "# Defined to append all the figures into one List - For log purpose\n",
    "allfig = []"
   ]
  },
  {
   "cell_type": "code",
   "execution_count": 6,
   "metadata": {},
   "outputs": [
    {
     "data": {
      "image/png": "[encoded data removed]",
      "text/plain": [
       "<Figure size 1224x720 with 1 Axes>"
      ]
     },
     "metadata": {
      "needs_background": "light"
     },
     "output_type": "display_data"
    }
   ],
   "source": [
    "\n",
    "#sentences=NSentences\n",
    "# Plot sentence by length\n",
    "plt.figure(figsize=(17,10))\n",
    "plt.hist([len(s) for s in NSentences], bins=50)\n",
    "title = 'Token per sentence'\n",
    "plt.title(title)\n",
    "plt.xlabel('Len (number of token)')\n",
    "plt.ylabel('# samples')\n",
    "plt.rcParams.update({'font.size': 18})\n",
    "allfig.append([plt.gcf(),title])\n",
    "plt.show()\n"
   ]
  },
  {
   "cell_type": "markdown",
   "metadata": {},
   "source": [
    "## Data Preprocessing\n",
    "\n",
    "Before feeding the data into the model, we have to preprocess the text.\n",
    "\n",
    "- We will use the `word2idx` dictionary to convert each word to a corresponding integer ID and the `tag2idx` to do the same for the labels. Representing words as integers saves a lot of memory!\n",
    "- In order to feed the text into our LSTM, all texts should be the same length. We ensure this using the `sequence.pad_sequences()` method and `MAX_LEN` variable. All texts longer than `MAX_LEN` are truncated and shorter texts are padded to get them to the same length.\n",
    "\n",
    "The *Tokens per sentence* plot (see above) is useful for setting the `MAX_LEN` training hyperparameter."
   ]
  },
  {
   "cell_type": "code",
   "execution_count": 7,
   "metadata": {},
   "outputs": [],
   "source": [
    "def pltTagdist (height,bars,title):\n",
    "    plt.figure(figsize=(15,4))\n",
    "    y_pos = np.arange(len(bars))\n",
    "    plt.bar(y_pos, height, color=(0.2, 0.4, 0.6, 0.6))\n",
    "\n",
    "    # use the plt.xticks function to custom labels\n",
    "    plt.xticks(y_pos, bars, color='Black', rotation=45, fontweight='bold', fontsize='12', horizontalalignment='right')\n",
    "    plt.title(title)\n",
    "    plt.xlabel('Tagset')\n",
    "    plt.ylabel('Tokens')\n",
    "    plt.tick_params(labelbottom='on')\n",
    "    return plt , title\n"
   ]
  },
  {
   "cell_type": "code",
   "execution_count": 8,
   "metadata": {},
   "outputs": [
    {
     "name": "stdout",
     "output_type": "stream",
     "text": [
      "The word सरकारलाई is identified by the index: 12597\n",
      "The labels B-PER(which defines Person Name) is identified by the index: 18\n"
     ]
    }
   ],
   "source": [
    "# Vocabulary Key:word -> Value:token_index\n",
    "# The first 2 entries are reserved for PAD and UNK\n",
    "\n",
    "tags = []\n",
    "words = []\n",
    "words = list(set(allWords))\n",
    "tags = list(set(allTags))\n",
    "\n",
    "words.insert(0, \"PAD\")\n",
    "words.insert(1, \"UNK\")\n",
    "\n",
    "word2idx = {w: i for i, w in enumerate(words)}\n",
    "\n",
    "# Vocabulary Key:token_index -> Value:word\n",
    "idx2word = {i: w for w, i in word2idx.items()}\n",
    "\n",
    "# Vocabulary Key:Label/Tag -> Value:tag_index\n",
    "# The first entry is reserved for PAD\n",
    "tags.insert(0, \"PAD\")\n",
    "tag2idx = {t: i for i, t in enumerate(tags)}\n",
    "\n",
    "\n",
    "# Vocabulary Key:tag_index -> Value:Label/Tag\n",
    "idx2tag = {i: w for w, i in tag2idx.items()}\n",
    "\n",
    "# For checking the index of a word in dataset\n",
    "print(\"The word सरकारलाई is identified by the index: {}\".format(word2idx[\"सरकारलाई\"]))\n",
    "print(\"The labels B-PER(which defines Person Name) is identified by the index: {}\".format(tag2idx[\"B-PER\"]))\n",
    "\n",
    "\n",
    "from keras.preprocessing.sequence import pad_sequences\n",
    "\n",
    "# Convert each sentence from list of Token to list of word_index\n",
    "X = [[float(word2idx[w[0]]) for w in s] for s in NSentences]\n",
    "\n",
    "# Padding each sentence to have the same lenght\n",
    "X = pad_sequences(maxlen=MAX_LEN, sequences=X, padding=\"post\", value=word2idx[\"PAD\"])\n",
    "\n",
    "# Convert Tag/Label to tag_index\n",
    "y = [[tag2idx[w[1]] for w in s] for s in NSentences]\n",
    "\n",
    "# Padding each sentence to have the same lenght\n",
    "y = pad_sequences(maxlen=MAX_LEN, sequences=y, padding=\"post\", value=tag2idx[\"PAD\"])\n"
   ]
  },
  {
   "cell_type": "code",
   "execution_count": 9,
   "metadata": {},
   "outputs": [],
   "source": [
    "from keras.utils import to_categorical\n",
    "\n",
    "# One-Hot encoding\n",
    "\n",
    "y = [to_categorical(i, num_classes=n_Ntags+1) for i in y]  \n"
   ]
  },
  {
   "cell_type": "code",
   "execution_count": 10,
   "metadata": {},
   "outputs": [],
   "source": [
    "# Converting List into Numpy Array Format\n",
    "X = np.array(X)\n",
    "y = np.array(y)"
   ]
  },
  {
   "cell_type": "code",
   "execution_count": 11,
   "metadata": {},
   "outputs": [],
   "source": [
    "# Opposite of One Hot Encoding.\n",
    "def revrcatgry(y): # It takes 3D matrix \n",
    "    y = list(y)\n",
    "    z = [np.argmax(i, -1) for i in y]\n",
    "    return np.array(z)\n"
   ]
  },
  {
   "cell_type": "code",
   "execution_count": 12,
   "metadata": {},
   "outputs": [],
   "source": [
    "# Splitting Data into Train and Test Data\n",
    "from sklearn.model_selection import train_test_split\n",
    "X_tr, X_te, y_tr, y_te = train_test_split(X, y, test_size=0.1)\n"
   ]
  },
  {
   "cell_type": "code",
   "execution_count": 13,
   "metadata": {
    "scrolled": true
   },
   "outputs": [
    {
     "name": "stdout",
     "output_type": "stream",
     "text": [
      "(5104, 104) - Shape of X_train\n",
      "(568, 104) - Shape of X_test\n",
      "(5104, 104, 19) - Shape of y_train\n",
      "(568, 104, 19) - Shape of y_test\n",
      "\n",
      "Raw Sample:  नेतृ कोइरालाले विपक्षी दल र सत्तारुढ दल दुबै सडकमा आउँदा मुठभेडको स्थिति आउने भएकाले सहमतिको विकल्प नरहेको वताउनुभयो\n",
      "Raw Label:  O I-PER O O O O O O B-FAC O B-EVT O O O O O O O\n"
     ]
    }
   ],
   "source": [
    "print(str(X_tr.shape)+\" - Shape of X_train\")\n",
    "print(str(X_te.shape)+\" - Shape of X_test\")\n",
    "print(str(y_tr.shape)+\" - Shape of y_train\")\n",
    "print(str(y_te.shape)+\" - Shape of y_test\\n\")\n",
    "\n",
    "print('Raw Sample: ', ' '.join([w[0] for w in NSentences[2]]))\n",
    "print('Raw Label: ', ' '.join([w[1] for w in NSentences[2]]))\n"
   ]
  },
  {
   "cell_type": "code",
   "execution_count": 14,
   "metadata": {},
   "outputs": [],
   "source": [
    "\n",
    "yy = [[ w[1] for w in s] for s in NSentences]\n",
    "\n",
    "# Allocating all the tag into one single List\n",
    "\n",
    "alltag=[]\n",
    "for sentence in yy:\n",
    "    for tag in sentence:\n",
    "        alltag.append(tag)\n",
    "\n",
    "\n",
    "\n",
    "# for Arranging the Distinct Tag using Value ascending order\n",
    "disttag = []    \n",
    "def get_key(val): \n",
    "    for key, value in tag2idx.items(): \n",
    "         if val == value: \n",
    "            return key \n",
    "\n",
    "for i in range(0,len(tag2idx)-1):\n",
    "    disttag.append(get_key(i)) \n",
    "\n",
    "tagd=[]\n",
    "for i in disttag:\n",
    "    ab = alltag.count(i)\n",
    "    tagd.append([i,ab])"
   ]
  },
  {
   "cell_type": "code",
   "execution_count": 15,
   "metadata": {},
   "outputs": [],
   "source": [
    "\n",
    "# This part is used for Log info\n",
    "tagdtxt=\"\"\n",
    "for i in tagd:\n",
    "    tagdtxt = tagdtxt+i[0]+\" \"+str(i[1])+\"\\n\"\n",
    "  "
   ]
  },
  {
   "cell_type": "code",
   "execution_count": 16,
   "metadata": {},
   "outputs": [
    {
     "data": {
      "text/plain": [
       "<Figure size 1224x720 with 0 Axes>"
      ]
     },
     "metadata": {},
     "output_type": "display_data"
    },
    {
     "data": {
      "image/png": "[encoded data removed]",
      "text/plain": [
       "<Figure size 1080x288 with 1 Axes>"
      ]
     },
     "metadata": {
      "needs_background": "light"
     },
     "output_type": "display_data"
    }
   ],
   "source": [
    "# Tag Distribution in Dataset \n",
    "height = [tag[1] for tag in tagd]\n",
    "bars = [tag[0] for tag in tagd]\n",
    "\n",
    "title = 'Tokens per Tag for all Dataset'\n",
    "plt.figure(figsize=(17,10))\n",
    "plt,title = pltTagdist(height,bars,title)\n",
    "allfig.append([plt.gcf(),title])\n",
    "plt.rcParams.update({'font.size': 12})\n",
    "plt.show()\n"
   ]
  },
  {
   "cell_type": "markdown",
   "metadata": {},
   "source": [
    "# Function Defination"
   ]
  },
  {
   "cell_type": "code",
   "execution_count": 17,
   "metadata": {},
   "outputs": [],
   "source": [
    "#  Graph of Time Complexity\n",
    "def timcomp(epoch,tim,title):\n",
    "    plt.rcParams.update({'font.size': 20})\n",
    "    plt.rcParams.update({'font.weight': 'bold'})\n",
    "    plt.figure(figsize=(17,10))\n",
    "    plt.plot(epoch,tim,linewidth=3.5)\n",
    "    title = title\n",
    "    plt.title(title)\n",
    "    plt.ylabel('Time (sec)')\n",
    "    plt.xlabel('Epoch')\n",
    "    \n",
    "    return plt,title\n"
   ]
  },
  {
   "cell_type": "code",
   "execution_count": 18,
   "metadata": {},
   "outputs": [],
   "source": [
    "# Graph Of Accuracy \n",
    "\n",
    "def acplot(acc,val_acc):    \n",
    "    plt.rcParams.update({'font.size': 20})\n",
    "    plt.figure(figsize=(17,10))\n",
    "    plt.plot(acc,linewidth=3.5)\n",
    "    plt.plot(val_acc,linewidth=3.5)\n",
    "    title = 'Model Accuracy'\n",
    "    plt.title(title)\n",
    "    plt.ylabel('Accuracy')\n",
    "    plt.xlabel('Epoch')\n",
    "    plt.legend(['train', 'test'], loc='upper left')\n",
    "    \n",
    "    return plt, title"
   ]
  },
  {
   "cell_type": "code",
   "execution_count": 19,
   "metadata": {},
   "outputs": [],
   "source": [
    "# Graph of Loss\n",
    "def lsplot(loss,val_loss):\n",
    "    plt.rcParams.update({'font.size': 20})\n",
    "    plt.rcParams.update({'font.weight': 'bold'})\n",
    "    plt.rcParams['axes.labelsize'] = 20\n",
    "    plt.rcParams['axes.labelweight'] = 'bold'\n",
    "    plt.figure(figsize=(17,10))\n",
    "    plt.plot(loss,linewidth=3.5)\n",
    "    plt.plot(val_loss,linewidth=3.5)\n",
    "    title = 'Model Loss'\n",
    "    plt.title(title)\n",
    "    plt.ylabel('Loss')\n",
    "    plt.xlabel('Epoch')\n",
    "    plt.legend(['train', 'test'], loc='upper left')\n",
    "    \n",
    "    return plt,title"
   ]
  },
  {
   "cell_type": "code",
   "execution_count": 20,
   "metadata": {},
   "outputs": [],
   "source": [
    "# Plot Confusing Matrix\n",
    "def plot_confusion_matrix(y_true, y_pred, classes,\n",
    "                          normalize=False,\n",
    "                          title=None,\n",
    "                          cmap=plt.cm.Blues):\n",
    "    \"\"\"\n",
    "    This function prints and plots the confusion matrix.\n",
    "    Normalization can be applied by setting `normalize=True`.\n",
    "    \"\"\"\n",
    "    if not title:\n",
    "        if normalize:\n",
    "            title = 'Normalized confusion matrix'\n",
    "        else:\n",
    "            title = 'Confusion matrix, without normalization'\n",
    "\n",
    "    # Compute confusion matrix\n",
    "    cm = confusion_matrix(y_true, y_pred)\n",
    "    # Only use the labels that appear in the data\n",
    "    classes = classes[unique_labels(y_true, y_pred)]\n",
    "    if normalize:\n",
    "        cm = cm.astype('float') / cm.sum(axis=1)[:, np.newaxis]\n",
    "        print(\"Normalized confusion matrix\")\n",
    "    else:\n",
    "        print('Confusion matrix, without normalization')\n",
    "    plt.rcParams.update({'font.weight': 'normal'})\n",
    "    plt.rcParams.update({'font.size': 20})\n",
    "    fig, ax = plt.subplots(figsize=(22,12))\n",
    "    #ax.figure(figsize=(30,30))\n",
    "    im = ax.imshow(cm, interpolation='nearest', cmap=cmap,aspect='auto')\n",
    "    ax.figure.colorbar(im, ax=ax)\n",
    "    # We want to show all ticks...\n",
    "    ax.set(xticks=np.arange(cm.shape[1]),\n",
    "           yticks=np.arange(cm.shape[0]),\n",
    "           # ... and label them with the respective list entries\n",
    "           xticklabels=classes, yticklabels=classes,\n",
    "           title=title,\n",
    "           ylabel='True label',\n",
    "           xlabel='Predicted label')\n",
    "    # Rotate the tick labels and set their alignment.\n",
    "    plt.setp(ax.get_xticklabels(), rotation=45, ha=\"right\",\n",
    "             rotation_mode=\"anchor\",weight='bold')\n",
    "    plt.setp(ax.get_yticklabels(),weight='bold')\n",
    "    # Loop over data dimensions and create text annotations.\n",
    "    fmt = '.2f' if normalize else 'd'\n",
    "    thresh = cm.max() / 2.\n",
    "    for i in range(cm.shape[0]):\n",
    "        for j in range(cm.shape[1]):\n",
    "            ax.text(j, i, format(cm[i, j], fmt),\n",
    "                    ha=\"center\", va=\"center\",\n",
    "                    color=\"white\" if cm[i, j] > thresh else \"black\")\n",
    "    fig.tight_layout()\n",
    "    return plt,title"
   ]
  },
  {
   "cell_type": "markdown",
   "metadata": {},
   "source": [
    "## Model\n",
    "Here LSTM Recurrent Neural Network is used for constructing a model. It is the trained by the labeled tags from the Nepali corpus."
   ]
  },
  {
   "cell_type": "code",
   "execution_count": 21,
   "metadata": {},
   "outputs": [],
   "source": [
    "from keras.models import Model, InputLayer\n",
    "from keras.layers import LSTM, Embedding, Dense, TimeDistributed, Dropout, Bidirectional,Activation\n",
    "from keras.models import Sequential\n",
    "from keras.optimizers import Adam\n",
    "from keras.layers.normalization import BatchNormalization"
   ]
  },
  {
   "cell_type": "code",
   "execution_count": 22,
   "metadata": {},
   "outputs": [],
   "source": [
    "#Hyperparameter initialization\n",
    "\n",
    "EPOCHS = 2\n",
    "DROPOUT_RECURRENT = 0.1\n",
    "EMBEDDING = 102\n",
    "LSTM_Units = 15\n",
    "LEARNING_RATE = 0.002\n",
    "BATCH_SIZE = 100\n",
    "d1 = 76\n",
    "opti = Adam(LEARNING_RATE)\n",
    "Note = \"Epoch \" + str(EPOCHS)"
   ]
  },
  {
   "cell_type": "code",
   "execution_count": 23,
   "metadata": {},
   "outputs": [],
   "source": [
    "# Dividing the Data set into Train and test dataset with required ratio.\n",
    "ratio = 0.71\n",
    "up = int(X.shape[0]*ratio)\n",
    "\n",
    "X_tr = X[0:up]\n",
    "X_te = X[up:X.shape[0]]\n",
    "\n",
    "y_tr = y[0:up]\n",
    "y_te = y[up:X.shape[0]]"
   ]
  },
  {
   "cell_type": "code",
   "execution_count": 24,
   "metadata": {},
   "outputs": [
    {
     "ename": "NameError",
     "evalue": "name 'math_ops' is not defined",
     "output_type": "error",
     "traceback": [
      "\u001b[0;31m---------------------------------------------------------------------------\u001b[0m",
      "\u001b[0;31mNameError\u001b[0m                                 Traceback (most recent call last)",
      "\u001b[0;32m<ipython-input-24-5245f1a98f11>\u001b[0m in \u001b[0;36m<module>\u001b[0;34m\u001b[0m\n\u001b[1;32m     24\u001b[0m \u001b[0mmodel\u001b[0m\u001b[0;34m.\u001b[0m\u001b[0madd\u001b[0m\u001b[0;34m(\u001b[0m\u001b[0mActivation\u001b[0m\u001b[0;34m(\u001b[0m\u001b[0;34m'softmax'\u001b[0m\u001b[0;34m)\u001b[0m\u001b[0;34m)\u001b[0m\u001b[0;34m\u001b[0m\u001b[0;34m\u001b[0m\u001b[0m\n\u001b[1;32m     25\u001b[0m \u001b[0;34m\u001b[0m\u001b[0m\n\u001b[0;32m---> 26\u001b[0;31m \u001b[0mmodel\u001b[0m\u001b[0;34m.\u001b[0m\u001b[0mcompile\u001b[0m\u001b[0;34m(\u001b[0m\u001b[0moptimizer\u001b[0m\u001b[0;34m=\u001b[0m\u001b[0mopti\u001b[0m\u001b[0;34m,\u001b[0m \u001b[0mloss\u001b[0m\u001b[0;34m=\u001b[0m\u001b[0;34m'categorical_crossentropy'\u001b[0m\u001b[0;34m,\u001b[0m \u001b[0mmetrics\u001b[0m\u001b[0;34m=\u001b[0m\u001b[0;34m[\u001b[0m\u001b[0;34m'accuracy'\u001b[0m\u001b[0;34m]\u001b[0m\u001b[0;34m)\u001b[0m\u001b[0;34m\u001b[0m\u001b[0;34m\u001b[0m\u001b[0m\n\u001b[0m\u001b[1;32m     27\u001b[0m \u001b[0;34m\u001b[0m\u001b[0m\n\u001b[1;32m     28\u001b[0m \u001b[0;31m# for finding the optimzer used.\u001b[0m\u001b[0;34m\u001b[0m\u001b[0;34m\u001b[0m\u001b[0;34m\u001b[0m\u001b[0m\n",
      "\u001b[0;32m//anaconda3/lib/python3.7/site-packages/keras/backend/tensorflow_backend.py\u001b[0m in \u001b[0;36msymbolic_fn_wrapper\u001b[0;34m(*args, **kwargs)\u001b[0m\n\u001b[1;32m     73\u001b[0m         \u001b[0;32mif\u001b[0m \u001b[0m_SYMBOLIC_SCOPE\u001b[0m\u001b[0;34m.\u001b[0m\u001b[0mvalue\u001b[0m\u001b[0;34m:\u001b[0m\u001b[0;34m\u001b[0m\u001b[0;34m\u001b[0m\u001b[0m\n\u001b[1;32m     74\u001b[0m             \u001b[0;32mwith\u001b[0m \u001b[0mget_graph\u001b[0m\u001b[0;34m(\u001b[0m\u001b[0;34m)\u001b[0m\u001b[0;34m.\u001b[0m\u001b[0mas_default\u001b[0m\u001b[0;34m(\u001b[0m\u001b[0;34m)\u001b[0m\u001b[0;34m:\u001b[0m\u001b[0;34m\u001b[0m\u001b[0;34m\u001b[0m\u001b[0m\n\u001b[0;32m---> 75\u001b[0;31m                 \u001b[0;32mreturn\u001b[0m \u001b[0mfunc\u001b[0m\u001b[0;34m(\u001b[0m\u001b[0;34m*\u001b[0m\u001b[0margs\u001b[0m\u001b[0;34m,\u001b[0m \u001b[0;34m**\u001b[0m\u001b[0mkwargs\u001b[0m\u001b[0;34m)\u001b[0m\u001b[0;34m\u001b[0m\u001b[0;34m\u001b[0m\u001b[0m\n\u001b[0m\u001b[1;32m     76\u001b[0m         \u001b[0;32melse\u001b[0m\u001b[0;34m:\u001b[0m\u001b[0;34m\u001b[0m\u001b[0;34m\u001b[0m\u001b[0m\n\u001b[1;32m     77\u001b[0m             \u001b[0;32mreturn\u001b[0m \u001b[0mfunc\u001b[0m\u001b[0;34m(\u001b[0m\u001b[0;34m*\u001b[0m\u001b[0margs\u001b[0m\u001b[0;34m,\u001b[0m \u001b[0;34m**\u001b[0m\u001b[0mkwargs\u001b[0m\u001b[0;34m)\u001b[0m\u001b[0;34m\u001b[0m\u001b[0;34m\u001b[0m\u001b[0m\n",
      "\u001b[0;32m//anaconda3/lib/python3.7/site-packages/keras/engine/training.py\u001b[0m in \u001b[0;36mcompile\u001b[0;34m(self, optimizer, loss, metrics, loss_weights, sample_weight_mode, weighted_metrics, target_tensors, **kwargs)\u001b[0m\n\u001b[1;32m    220\u001b[0m             \u001b[0mskip_target_masks\u001b[0m\u001b[0;34m=\u001b[0m\u001b[0;34m[\u001b[0m\u001b[0ml\u001b[0m \u001b[0;32mis\u001b[0m \u001b[0;32mNone\u001b[0m \u001b[0;32mfor\u001b[0m \u001b[0ml\u001b[0m \u001b[0;32min\u001b[0m \u001b[0mself\u001b[0m\u001b[0;34m.\u001b[0m\u001b[0mloss_functions\u001b[0m\u001b[0;34m]\u001b[0m\u001b[0;34m,\u001b[0m\u001b[0;34m\u001b[0m\u001b[0;34m\u001b[0m\u001b[0m\n\u001b[1;32m    221\u001b[0m             \u001b[0msample_weights\u001b[0m\u001b[0;34m=\u001b[0m\u001b[0mself\u001b[0m\u001b[0;34m.\u001b[0m\u001b[0msample_weights\u001b[0m\u001b[0;34m,\u001b[0m\u001b[0;34m\u001b[0m\u001b[0;34m\u001b[0m\u001b[0m\n\u001b[0;32m--> 222\u001b[0;31m             masks=masks)\n\u001b[0m\u001b[1;32m    223\u001b[0m \u001b[0;34m\u001b[0m\u001b[0m\n\u001b[1;32m    224\u001b[0m         \u001b[0;31m# Compute total loss.\u001b[0m\u001b[0;34m\u001b[0m\u001b[0;34m\u001b[0m\u001b[0;34m\u001b[0m\u001b[0m\n",
      "\u001b[0;32m//anaconda3/lib/python3.7/site-packages/keras/engine/training.py\u001b[0m in \u001b[0;36m_handle_metrics\u001b[0;34m(self, outputs, targets, skip_target_masks, sample_weights, masks)\u001b[0m\n\u001b[1;32m    869\u001b[0m \u001b[0;34m\u001b[0m\u001b[0m\n\u001b[1;32m    870\u001b[0m                 self._handle_per_output_metrics(\n\u001b[0;32m--> 871\u001b[0;31m                     self._per_output_metrics[i], target, output, output_mask)\n\u001b[0m\u001b[1;32m    872\u001b[0m                 self._handle_per_output_metrics(\n\u001b[1;32m    873\u001b[0m                     \u001b[0mself\u001b[0m\u001b[0;34m.\u001b[0m\u001b[0m_per_output_weighted_metrics\u001b[0m\u001b[0;34m[\u001b[0m\u001b[0mi\u001b[0m\u001b[0;34m]\u001b[0m\u001b[0;34m,\u001b[0m\u001b[0;34m\u001b[0m\u001b[0;34m\u001b[0m\u001b[0m\n",
      "\u001b[0;32m//anaconda3/lib/python3.7/site-packages/keras/engine/training.py\u001b[0m in \u001b[0;36m_handle_per_output_metrics\u001b[0;34m(self, metrics_dict, y_true, y_pred, mask, weights)\u001b[0m\n\u001b[1;32m    840\u001b[0m             \u001b[0;32mwith\u001b[0m \u001b[0mK\u001b[0m\u001b[0;34m.\u001b[0m\u001b[0mname_scope\u001b[0m\u001b[0;34m(\u001b[0m\u001b[0mmetric_name\u001b[0m\u001b[0;34m)\u001b[0m\u001b[0;34m:\u001b[0m\u001b[0;34m\u001b[0m\u001b[0;34m\u001b[0m\u001b[0m\n\u001b[1;32m    841\u001b[0m                 training_utils.call_metric_function(\n\u001b[0;32m--> 842\u001b[0;31m                     metric_fn, y_true, y_pred, weights=weights, mask=mask)\n\u001b[0m\u001b[1;32m    843\u001b[0m \u001b[0;34m\u001b[0m\u001b[0m\n\u001b[1;32m    844\u001b[0m     def _handle_metrics(self,\n",
      "\u001b[0;32m//anaconda3/lib/python3.7/site-packages/keras/engine/training_utils.py\u001b[0m in \u001b[0;36mcall_metric_function\u001b[0;34m(metric_fn, y_true, y_pred, weights, mask)\u001b[0m\n\u001b[1;32m   1020\u001b[0m     \u001b[0;34m\"\"\"Invokes metric function and returns the metric result tensor.\"\"\"\u001b[0m\u001b[0;34m\u001b[0m\u001b[0;34m\u001b[0m\u001b[0m\n\u001b[1;32m   1021\u001b[0m     \u001b[0;32mif\u001b[0m \u001b[0mmask\u001b[0m \u001b[0;32mis\u001b[0m \u001b[0;32mnot\u001b[0m \u001b[0;32mNone\u001b[0m\u001b[0;34m:\u001b[0m\u001b[0;34m\u001b[0m\u001b[0;34m\u001b[0m\u001b[0m\n\u001b[0;32m-> 1022\u001b[0;31m         \u001b[0mmask\u001b[0m \u001b[0;34m=\u001b[0m \u001b[0mmath_ops\u001b[0m\u001b[0;34m.\u001b[0m\u001b[0mcast\u001b[0m\u001b[0;34m(\u001b[0m\u001b[0mmask\u001b[0m\u001b[0;34m,\u001b[0m \u001b[0my_pred\u001b[0m\u001b[0;34m.\u001b[0m\u001b[0mdtype\u001b[0m\u001b[0;34m)\u001b[0m\u001b[0;34m\u001b[0m\u001b[0;34m\u001b[0m\u001b[0m\n\u001b[0m\u001b[1;32m   1023\u001b[0m         \u001b[0;32mif\u001b[0m \u001b[0mweights\u001b[0m \u001b[0;32mis\u001b[0m \u001b[0;32mNone\u001b[0m\u001b[0;34m:\u001b[0m\u001b[0;34m\u001b[0m\u001b[0;34m\u001b[0m\u001b[0m\n\u001b[1;32m   1024\u001b[0m             \u001b[0;31m# Use mask as sample weight.\u001b[0m\u001b[0;34m\u001b[0m\u001b[0;34m\u001b[0m\u001b[0;34m\u001b[0m\u001b[0m\n",
      "\u001b[0;31mNameError\u001b[0m: name 'math_ops' is not defined"
     ]
    }
   ],
   "source": [
    "  \n",
    "Dense_layer1 = d1\n",
    "DROPOUT1 = 0.5\n",
    "\n",
    "# Model 1 definition\n",
    "\n",
    "model = Sequential()\n",
    "model.add(InputLayer(input_shape=(MAX_LEN, )))\n",
    "model.add(Embedding(input_dim=n_Nwords+2, output_dim=EMBEDDING,\n",
    "                  input_length=MAX_LEN, mask_zero=True))\n",
    "\n",
    "\n",
    "model.add(LSTM(units=LSTM_Units, return_sequences=True,recurrent_dropout=DROPOUT_RECURRENT,activation='relu'))\n",
    "model.add(BatchNormalization())\n",
    "\n",
    "\n",
    "#model.add(Bidirectional(LSTM(units=LSTM_Units, return_sequences=True,recurrent_dropout=DROPOUT_RECURRENT,activation='relu')))\n",
    "#model.add(BatchNormalization())\n",
    "\n",
    "model.add(Dense(Dense_layer1,activation=\"relu\"))\n",
    "model.add(BatchNormalization())\n",
    "model.add(Dropout(DROPOUT1))\n",
    "\n",
    "model.add(TimeDistributed(Dense(n_Ntags+1)))\n",
    "model.add(Activation('softmax'))\n",
    "\n",
    "model.compile(optimizer=opti, loss='categorical_crossentropy', metrics=['accuracy'])\n",
    "\n",
    "# for finding the optimzer used.\n",
    "#opt = str(type(model.optimizer)).split('.')\n",
    "#optm = opt[-1].replace(\"'>\",\"\")\n",
    "\n",
    "## Print The Summary of the Model\n",
    "model.summary()"
   ]
  },
  {
   "cell_type": "code",
   "execution_count": null,
   "metadata": {},
   "outputs": [],
   "source": [
    "history = model.fit(X_tr, y_tr, batch_size=BATCH_SIZE, epochs=EPOCHS,validation_data=(X_te,y_te),\n",
    "                    verbose=1,callbacks=[time_callback])"
   ]
  },
  {
   "cell_type": "markdown",
   "metadata": {},
   "source": [
    "#Hyperparameter initialization\n",
    "\n",
    "EPOCHS = 20\n",
    "DROPOUT_RECURRENT = 0.1\n",
    "EMBEDDING = 102\n",
    "LSTM_Units = 153\n",
    "LEARNING_RATE = 0.002\n",
    "BATCH_SIZE = 32\n",
    "d1 = 76\n",
    "opti = Adam(LEARNING_RATE)\n",
    "Note = \"Epoch \" + str(EPOCHS) + \" \"+arc"
   ]
  },
  {
   "cell_type": "code",
   "execution_count": null,
   "metadata": {},
   "outputs": [],
   "source": [
    "    \n",
    "# For Calculating Average Loss and Minimum Loss\n",
    "avlos = round(np.average(history.history['val_loss']),2)\n",
    "minlos = round(np.min(history.history['val_loss']),2)\n",
    "\n",
    "# For Calculating Accuracy and Maximum Accuracy \n",
    "accuracy = round(np.mean(history.history['acc']),4)\n",
    "max_accuracy = round(np.max(history.history['acc']),4)\n",
    "\n",
    "#For Calculating Validating Accuracy and Max Validating Accuracy\n",
    "val_accuracy = round(np.mean(history.history['val_acc']),4)\n",
    "max_val_accuracy = round(np.max(history.history['val_acc']),4)\n",
    "\n",
    "\n",
    "# for Time in each Epoch\n",
    "tim = [int(tm) for tm in time_callback.times]\n",
    "epoch = [ab for ab in range(0,EPOCHS)]\n",
    "\n",
    "# for cumulative Time \n",
    "timnp = np.array(tim)\n",
    "totaltime = np.sum(tim)\n",
    "timnp = np.cumsum(timnp)\n",
    "timsm = list(timnp)"
   ]
  },
  {
   "cell_type": "code",
   "execution_count": null,
   "metadata": {},
   "outputs": [],
   "source": [
    "# adding Model Time complexity graph into list\n",
    "title = 'Model Timecomplexity'\n",
    "plt,title = timcomp(epoch,tim,title)\n",
    "allfig.append([plt.gcf(),title])\n",
    "\n",
    "# adding Model Time complexity Cumulative graph into list\n",
    "title = 'Model Timecomplexity cumulative'\n",
    "plt,title = timcomp(epoch,timsm,title)\n",
    "allfig.append([plt.gcf(),title])\n",
    "\n",
    "# Call acplot and  adding Accuracy graph into list\n",
    "plt,title = acplot(history.history['acc'],history.history['val_acc'])\n",
    "allfig.append([plt.gcf(),title])\n",
    "\n",
    "# Call lsplot and adding Loss graph into list\n",
    "plt,title = lsplot(history.history['loss'],history.history['val_loss'])\n",
    "allfig.append([plt.gcf(),title])"
   ]
  },
  {
   "cell_type": "code",
   "execution_count": null,
   "metadata": {},
   "outputs": [],
   "source": [
    "# Predicting for Test data \n",
    "pred_cat = model.predict(X_te)\n",
    "preddd = pred_cat\n",
    "pred_cat.shape\n",
    "predall = np.argmax(pred_cat, axis=-1)"
   ]
  },
  {
   "cell_type": "code",
   "execution_count": null,
   "metadata": {},
   "outputs": [],
   "source": [
    "'''lst = []\n",
    "[[lst.append([])] for i in range (0, n_Ntags+1)]\n",
    "for j in range(0,X_te.shape[0]):\n",
    "    alxte = X_te[j]\n",
    "    alpred_cat = pred_cat[j]\n",
    "    alyte = altrnopt[j]\n",
    "\n",
    "    pred = np.argmax(alpred_cat, axis=-1)\n",
    "    pred = list(pred)\n",
    "\n",
    "    acc = list(alyte)\n",
    "\n",
    "\n",
    "    #print(lst)\n",
    "    for i in range(0,len(pred)):\n",
    "        if acc[i] == 0:\n",
    "                   pred[i]=0\n",
    "        if acc[i] != pred[i]:\n",
    "            label = acc[i]\n",
    "            word = alxte[i]\n",
    "\n",
    "            lst[label].append(\"\\t\"+idx2word[word]+\"\\t\\t\\t ->  \"+str(idx2tag[pred[i]]))\n",
    "\n",
    "\n",
    "'''"
   ]
  },
  {
   "cell_type": "code",
   "execution_count": null,
   "metadata": {},
   "outputs": [],
   "source": [
    "# For Multi Level Classification Report\n",
    "from sklearn_crfsuite.metrics import flat_classification_report\n",
    "from sklearn.metrics import f1_score\n",
    "\n",
    "\n",
    "indx = np.argmin(y_te_true, axis=1)\n",
    "for i in range (0,len(predall)):\n",
    "    predall[i][indx[i]:len(predall[i])]=0\n",
    "\n",
    "\n",
    "# Flat classification Report\n",
    "pred_tag = [[idx2tag[i] for i in row] for row in predall]\n",
    "\n",
    "y_te_true_tag = [[idx2tag[i] for i in row] for row in y_te_true] \n",
    "\n",
    "clas_report = flat_classification_report(y_pred=pred_tag, y_true=y_te_true_tag)\n",
    "print(clas_report)\n",
    "\n",
    "f1= round(f1_score(y_te_true.reshape(-1), predall.reshape(-1), average='macro'),2)\n",
    "\n",
    "allf1 = f1_score(y_te_true.reshape(-1), predall.reshape(-1), average=None)\n",
    "\n",
    "# For finding the Deviation of the F1 score of all tags from highest F1 score 100 \n",
    "from math import sqrt\n",
    "sm = 0\n",
    "for a in allf1:\n",
    "    num = (a*100-100)*(a*100-100)\n",
    "    sm = sm + num\n",
    "den = allf1.shape[0]\n",
    "cudev = round(sqrt(sm/den),2)\n",
    "print(cudev) # deviation score of F1 score from Highest score"
   ]
  },
  {
   "cell_type": "code",
   "execution_count": null,
   "metadata": {},
   "outputs": [],
   "source": [
    "# Confusion Matrix processing and Plot\n",
    "pred_tag_num = [[tag2idx.get(i) for i in s] for s in pred_tag]\n",
    "y_te_true_tag_num = [[tag2idx.get(i) for i in s] for s in y_te_true_tag]\n",
    "\n",
    "pred_tag_numpy = np.array(pred_tag_num)\n",
    "y_te_true_tag_numpy = np.array(y_te_true_tag_num)\n",
    "y_te_true_tag_numpy.shape\n",
    "sing_tru_tag = y_te_true_tag_numpy.reshape(-1)\n",
    "sing_pred_tag = pred_tag_numpy.reshape(-1)\n",
    "print(sing_pred_tag.shape)\n",
    "sing_tru_tag.shape\n",
    "\n",
    "class_name = [idx2tag[i] for i in range (0,len(tag2idx))]\n",
    "class_name_nmpy = np.array(class_name)\n",
    "\n",
    "# Plotting Confussion Matrix\n",
    "plt,title = plot_confusion_matrix(sing_tru_tag[1:],sing_pred_tag[1:], classes=class_name_nmpy[:],normalize=True,\n",
    "                      title='Normalized Confusion Matrix')\n",
    "# Saving CM into list\n",
    "allfig.append([plt.gcf(),title])"
   ]
  },
  {
   "cell_type": "code",
   "execution_count": null,
   "metadata": {},
   "outputs": [],
   "source": [
    "# Reporting Work and status\n",
    "\n",
    "\n",
    "import pickle\n",
    "import logeditor as lg\n",
    "import os\n",
    "pth = lg.pathcreator(lgname)\n",
    "\n",
    "# Create Hyperparameter.txt in ML Log Folder and Update following details\n",
    "\n",
    "file = lg.filecreator(\"Hyperparameter\",pth)\n",
    "lg.write2file('Hyper Parameter Details',file)\n",
    "lg.write2file('Learning Rate '+str(LEARNING_RATE),file)\n",
    "lg.write2file('Epoch '+str(EPOCHS) ,file)\n",
    "lg.write2file('Batch Size '+str(BATCH_SIZE),file)\n",
    "lg.write2file('Embedding '+str(EMBEDDING),file)\n",
    "lg.write2file('LSTM Units '+str(LSTM_Units),file)\n",
    "lg.write2file('Dataset Address '+str(addrsrc),file)\n",
    "lg.write2file('LSTM Recurrent Dropout '+str(DROPOUT_RECURRENT),file)"
   ]
  },
  {
   "cell_type": "code",
   "execution_count": null,
   "metadata": {},
   "outputs": [],
   "source": [
    "# create Results.txt file in ML log folder and update following details\n",
    "\n",
    "file = lg.filecreator(\"Results\",pth)\n",
    "lg.write2file('Results details',file)\n",
    "lg.write2file('Mean Accuracy '+str(accuracy),file)\n",
    "lg.write2file('Mean Validation Accuracy '+str(val_accuracy),file)\n",
    "lg.write2file('Total Time taken in Seconds - '+str(totaltime),file)\n",
    "\n",
    "\n",
    "lg.filecreatorw('Tag frequency Details',tagdtxt,pth)\n",
    "lg.filecreatorw('Classification Report',clas_report,pth)\n",
    "lg.filecreatorw('Dataset Details',dataset_det,pth)\n",
    "\n",
    "with open(pth + '/Model Configuration.txt','w') as fh:\n",
    "    model.summary(print_fn=lambda x: fh.write(x + '\\n'))"
   ]
  },
  {
   "cell_type": "code",
   "execution_count": null,
   "metadata": {},
   "outputs": [],
   "source": [
    "#for saving all the fig into file from the prepared list allfig\n",
    "for index,lst in enumerate(allfig):\n",
    "    figg = lst[0]\n",
    "    nm = lst[1]\n",
    "    figg.tight_layout()\n",
    "    figg.savefig(pth+\"/\"+nm+str(index)+\".png\")"
   ]
  },
  {
   "cell_type": "code",
   "execution_count": null,
   "metadata": {},
   "outputs": [],
   "source": [
    "# For Saving the trained model\n",
    "with open(pth+'/word_to_index.pickle', 'wb') as handle:\n",
    "    pickle.dump(word2idx, handle, protocol=pickle.HIGHEST_PROTOCOL)\n",
    "\n",
    "# Saving Vocab\n",
    "with open(pth+'/tag_to_index.pickle', 'wb') as handle:\n",
    "    pickle.dump(tag2idx, handle, protocol=pickle.HIGHEST_PROTOCOL)\n",
    "\n",
    "# Saving Model Weight\n",
    "model.save_weights(pth+'/NER_LSTM_weights.h5')\n",
    "model.save(pth+'/NER_LSTM_MODEL.h5')\n",
    "print(\"Completed Sucessfully...!!! \")"
   ]
  }
 ],
 "metadata": {
  "kernelspec": {
   "display_name": "Python 3",
   "language": "python",
   "name": "python3"
  },
  "language_info": {
   "codemirror_mode": {
    "name": "ipython",
    "version": 3
   },
   "file_extension": ".py",
   "mimetype": "text/x-python",
   "name": "python",
   "nbconvert_exporter": "python",
   "pygments_lexer": "ipython3",
   "version": "3.7.3"
  }
 },
 "nbformat": 4,
 "nbformat_minor": 2
}
